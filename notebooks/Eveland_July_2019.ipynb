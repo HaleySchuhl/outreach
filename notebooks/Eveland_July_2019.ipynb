{
 "cells": [
  {
   "cell_type": "markdown",
   "metadata": {
    "collapsed": true
   },
   "source": [
    "# Upload your image"
   ]
  },
  {
   "cell_type": "markdown",
   "metadata": {},
   "source": [
    "* In the top left-hand corner click \"File\"\n",
    "* Click \"Open...\" from the drop down menu\n",
    "* Click the folder named \"images\"\n",
    "* In the top right-hand corner click \"Upload\"\n",
    "* Choose your image from your computer \n",
    "* Click the blue \"Upload\" button "
   ]
  },
  {
   "cell_type": "markdown",
   "metadata": {},
   "source": [
    "# How to read code"
   ]
  },
  {
   "cell_type": "markdown",
   "metadata": {},
   "source": [
    "* Everything after a hashtag (light green and italic) is a comment. The computer doesn't read this; these are notes for the humans reading the code!\n",
    "* `pcv.`____ are functions from the PlantCV software library. These functions DO something (i.e. read in an image, resize the image, ...)\n",
    "* Stuff inside parentheses are parameters. These are the ingredients where your function is the recipe.\n",
    "* Stuff to the left of equals sign are the things \"returned\" by a function. Generally, a function will spit out one or more objects that get saved to variable names. These output objects are usually the input for the next step. "
   ]
  },
  {
   "cell_type": "markdown",
   "metadata": {},
   "source": [
    "# Update your code to read your new image "
   ]
  },
  {
   "cell_type": "markdown",
   "metadata": {},
   "source": [
    "* In the block of code that starts `class options:` change\n",
    "the line where `self.image` gets assigned"
   ]
  },
  {
   "cell_type": "code",
   "execution_count": null,
   "metadata": {},
   "outputs": [],
   "source": [
    "# Import software needed \n",
    "from plantcv import plantcv as pcv \n",
    "import numpy as np"
   ]
  },
  {
   "cell_type": "code",
   "execution_count": null,
   "metadata": {},
   "outputs": [],
   "source": [
    "class options:\n",
    "    def __init__(self):\n",
    "        self.image = \"images/maize.JPG\"\n",
    "        #                    ^\n",
    "        #                    |\n",
    "        # Replace \"maize.JPG\" with your image name. \n",
    "        # NOTE: this is case sensitive! \n",
    "        self.debug = \"plot\"\n",
    "        self.writeimg= False \n",
    "        self.result = \"./g2p_results\"\n",
    "        self.outdir = \".\"\n",
    "# Get options\n",
    "args = options()\n",
    "\n",
    "# Set debug to the global parameter \n",
    "pcv.params.debug = args.debug\n"
   ]
  },
  {
   "cell_type": "code",
   "execution_count": null,
   "metadata": {},
   "outputs": [],
   "source": [
    "# Read image (sometimes you need to run this line twice to see the image) \n",
    "\n",
    "# Inputs:\n",
    "#   filename - Image file to be read in \n",
    "#   mode - Return mode of image; either 'native' (default), 'rgb', 'gray', or 'csv' \n",
    "img, path, filename = pcv.readimage(filename=args.image)\n"
   ]
  },
  {
   "cell_type": "code",
   "execution_count": null,
   "metadata": {},
   "outputs": [],
   "source": [
    "# The image is quite large which can slow down computation, so resize\n",
    "\n",
    "# Inputs:\n",
    "#   img - RGB or grayscale image\n",
    "#   resize_x - How much to resize in the x axis\n",
    "#   resize_y - How much to resize in the y axis\n",
    "img = pcv.resize(img=img, resize_x=.5, resize_y=.5)\n"
   ]
  },
  {
   "cell_type": "code",
   "execution_count": null,
   "metadata": {},
   "outputs": [],
   "source": [
    "# Convert RGB to LAB and extract the green-magenta channel ('a')\n",
    "\n",
    "# Input:\n",
    "#   rgb_img - RGB image data \n",
    "#   channel- Split by 'l' (lightness), 'a' (green-magenta), or 'b' (blue-yellow) channel\n",
    "a_img = pcv.rgb2gray_lab(rgb_img=img, channel='a')\n"
   ]
  },
  {
   "cell_type": "code",
   "execution_count": null,
   "metadata": {},
   "outputs": [],
   "source": [
    "# Threshold can be on either light or dark objects in the image. \n",
    "\n",
    "# Inputs:\n",
    "#   gray_img - Grayscale image data \n",
    "#   threshold- Threshold value (between 0-255)\n",
    "#   max_value - Value to apply above threshold (255 = white) \n",
    "#   object_type - 'light' (default) or 'dark'. If the object is lighter than the background then standard threshold is done.\n",
    "#                 If the object is darker than the background then inverse thresholding is done. \n",
    "a_thresh_img = pcv.threshold.binary(gray_img=a_img, threshold=125, max_value=255, object_type='dark')\n"
   ]
  },
  {
   "cell_type": "code",
   "execution_count": null,
   "metadata": {},
   "outputs": [],
   "source": [
    "# Filter out dark noise from an image.\n",
    "\n",
    "# Inputs:\n",
    "#   gray_img - Grayscale or binary image data\n",
    "#   kernel - Optional neighborhood, expressed as an array of 1's and 0's. If None (default),\n",
    "#   uses cross-shaped structuring element.\n",
    "closed = pcv.closing(gray_img=a_thresh_img)\n"
   ]
  },
  {
   "cell_type": "code",
   "execution_count": null,
   "metadata": {},
   "outputs": [],
   "source": [
    "# Fill small objects (reduce image noise) \n",
    "\n",
    "# Inputs: \n",
    "#   bin_img - Binary image data \n",
    "#   size - Minimum object area size in pixels (must be an integer), and smaller objects will be filled\n",
    "filled = pcv.fill(bin_img=closed, size=40)\n"
   ]
  },
  {
   "cell_type": "code",
   "execution_count": null,
   "metadata": {},
   "outputs": [],
   "source": [
    "# Dilate the mask to avoid losing leaf tips\n",
    "\n",
    "# Inputs:\n",
    "#    gray_img = input image\n",
    "#    ksize    = kernel size, integer\n",
    "#    i        = iterations, i.e. number of consecutive filtering passes\n",
    "dilated = pcv.dilate(gray_img=filled, ksize=5, i=1)\n"
   ]
  },
  {
   "cell_type": "code",
   "execution_count": null,
   "metadata": {},
   "outputs": [],
   "source": [
    "# Use a lowpass (blurring) filter to smooth sobel image\n",
    "\n",
    "# Inputs:\n",
    "#   gray_img - Grayscale image data \n",
    "#   ksize - Kernel size (integer or tuple), (ksize, ksize) box if integer input,\n",
    "#           (n, m) box if tuple input \n",
    "m_blur = pcv.median_blur(gray_img=dilated, ksize=12)\n",
    "\n"
   ]
  },
  {
   "cell_type": "code",
   "execution_count": null,
   "metadata": {},
   "outputs": [],
   "source": [
    "# Fill in any holes in the plant mask\n",
    "\n",
    "# Inputs:\n",
    "#   bin_img - Binary image data\n",
    "filled_mask = pcv.fill_holes(bin_img=m_blur)"
   ]
  },
  {
   "cell_type": "code",
   "execution_count": null,
   "metadata": {},
   "outputs": [],
   "source": [
    "# Identify objects\n",
    "\n",
    "# Inputs: \n",
    "#   img - RGB or grayscale image data for plotting \n",
    "#   mask - Binary mask used for detecting contours \n",
    "obj_cnt, obj_hierarchy = pcv.find_objects(img=img, mask=filled_mask)"
   ]
  },
  {
   "cell_type": "code",
   "execution_count": null,
   "metadata": {},
   "outputs": [],
   "source": [
    "# Define region of interest (ROI)\n",
    "\n",
    "# Inputs: \n",
    "#   img - RGB or grayscale image to plot the ROI on \n",
    "#   x - The x-coordinate of the upper left corner of the rectangle \n",
    "#   y - The y-coordinate of the upper left corner of the rectangle \n",
    "#   h - The height of the rectangle \n",
    "#   w - The width of the rectangle \n",
    "roi_cnt, roi_hierarchy = pcv.roi.rectangle(img=img, x=500, y=500, h=1000, w=2000)\n"
   ]
  },
  {
   "cell_type": "code",
   "execution_count": null,
   "metadata": {},
   "outputs": [],
   "source": [
    "# Decide which objects to keep\n",
    "\n",
    "# Inputs:\n",
    "#    img            = img to display kept objects\n",
    "#    roi_contour    = contour of roi, output from any ROI function\n",
    "#    roi_hierarchy  = contour of roi, output from any ROI function\n",
    "#    object_contour = contours of objects, output from pcv.find_objects function\n",
    "#    obj_hierarchy  = hierarchy of objects, output from pcv.find_objects function\n",
    "#    roi_type       = 'partial' (default, for partially inside), 'cutto', or \n",
    "#    'largest' (keep only largest contour)\n",
    "plant_obj, plant_hier, plant_mask, obj_area = pcv.roi_objects(img=img, roi_contour=roi_cnt, \n",
    "                                                               roi_hierarchy=roi_hierarchy, \n",
    "                                                               object_contour=obj_cnt, \n",
    "                                                               obj_hierarchy=obj_hierarchy,\n",
    "                                                               roi_type='partial')\n"
   ]
  },
  {
   "cell_type": "code",
   "execution_count": null,
   "metadata": {},
   "outputs": [],
   "source": [
    "# Skeletonize the plant mask (one-pixel wide representation)\n",
    "\n",
    "# Inputs:\n",
    "#   mask - Binary mask \n",
    "skeleton = pcv.morphology.skeletonize(mask=plant_mask)"
   ]
  },
  {
   "cell_type": "code",
   "execution_count": null,
   "metadata": {},
   "outputs": [],
   "source": [
    "# Adjust line thickness with the global line thickness parameter (default = 5),\n",
    "# and provide binary mask of the plant for debugging. NOTE: the objects and\n",
    "# hierarchies returned will be exactly the same but the debugging image (segmented_img)\n",
    "# will look different.\n",
    "pcv.params.line_thickness = 10\n",
    "\n",
    "# Prune the skeleton  \n",
    "\n",
    "# Inputs:\n",
    "#   skel_img = Skeletonized image\n",
    "#   size     = Pieces of skeleton smaller than `size` should get removed. (Optional) Default `size=0`. \n",
    "#   mask     = Binary mask for debugging (optional). If provided, debug images will be overlaid on the mask.\n",
    "\n",
    "pruned, seg_img, edge_objects = pcv.morphology.prune(skel_img=skeleton, size=100, mask=plant_mask)\n"
   ]
  },
  {
   "cell_type": "code",
   "execution_count": null,
   "metadata": {},
   "outputs": [],
   "source": [
    "# Sort segments into leaf objects and stem objects  \n",
    "\n",
    "# Inputs:\n",
    "#   skel_img  = Skeletonized image\n",
    "#   objects   = List of contours\n",
    "#   mask      = (Optional) binary mask for debugging. If provided, debug image \n",
    "#                will be overlaid on the mask.\n",
    "\n",
    "leaf_obj, stem_obj = pcv.morphology.segment_sort(skel_img=pruned, \n",
    "                                                 objects=edge_objects,\n",
    "                                                 mask=plant_mask)\n"
   ]
  },
  {
   "cell_type": "code",
   "execution_count": null,
   "metadata": {},
   "outputs": [],
   "source": [
    "# Similar to line thickness, there are optional text size and text thickness parameters \n",
    "# that can be adjusted to better suit images or varying sizes.\n",
    "pcv.params.text_size=3 # (default text_size=.55)\n",
    "pcv.params.text_thickness=8 # (defaul text_thickness=2) \n",
    "\n",
    "# Identify segments     \n",
    "\n",
    "# Inputs:\n",
    "#   skel_img  = Skeletonized image\n",
    "#   objects   = List of contours\n",
    "#   mask      = (Optional) binary mask for debugging. If provided, debug image \n",
    "#                will be overlaid on the mask.\n",
    "\n",
    "segmented_img, labeled_img = pcv.morphology.segment_id(skel_img=skeleton,\n",
    "                                                       objects=leaf_obj,\n",
    "                                                       mask=plant_mask)\n"
   ]
  },
  {
   "cell_type": "code",
   "execution_count": null,
   "metadata": {},
   "outputs": [],
   "source": [
    "# Measure path lengths of segments     \n",
    "\n",
    "# Inputs:\n",
    "#   segmented_img = Segmented image to plot lengths on\n",
    "#   objects       = List of contours\n",
    "\n",
    "labeled_img  = pcv.morphology.segment_path_length(segmented_img=segmented_img, \n",
    "                                                  objects=leaf_obj)\n"
   ]
  },
  {
   "cell_type": "code",
   "execution_count": null,
   "metadata": {},
   "outputs": [],
   "source": [
    "# Measure euclidean distance of segments      \n",
    "\n",
    "# Inputs:\n",
    "#   segmented_img = Segmented image to plot lengths on\n",
    "#   objects       = List of contours\n",
    "\n",
    "labeled_img = pcv.morphology.segment_euclidean_length(segmented_img=segmented_img, \n",
    "                                                      objects=leaf_obj)\n"
   ]
  },
  {
   "cell_type": "code",
   "execution_count": null,
   "metadata": {},
   "outputs": [],
   "source": [
    "# Measure the angle of segments      \n",
    "\n",
    "# Inputs:\n",
    "#   segmented_img = Segmented image to plot angles on\n",
    "#   objects       = List of contours\n",
    "\n",
    "labeled_img = pcv.morphology.segment_angle(segmented_img=segmented_img, \n",
    "                                           objects=leaf_obj)\n"
   ]
  },
  {
   "cell_type": "code",
   "execution_count": null,
   "metadata": {},
   "outputs": [],
   "source": [
    "# Measure the leaf insertion angles   \n",
    "# NOTE: This function is slow and will likely take up to 2 minutes to run\n",
    "\n",
    "# Inputs:\n",
    "#   skel_img         = Skeletonize image \n",
    "#   segmented_img    = Segmented image to plot insertion angles on\n",
    "#   leaf_objects     = List of leaf contours\n",
    "#   stem_objects     = List of stem objects \n",
    "#   size             = Size of the inner portion of each leaf to find a linear regression line\n",
    "\n",
    "labeled_img = pcv.morphology.segment_insertion_angle(skel_img=skeleton,\n",
    "                                                     segmented_img=segmented_img, \n",
    "                                                     leaf_objects=leaf_obj, \n",
    "                                                     stem_objects=stem_obj,\n",
    "                                                     size=90)\n"
   ]
  },
  {
   "cell_type": "code",
   "execution_count": null,
   "metadata": {},
   "outputs": [],
   "source": [
    "# Format data collected into a table \n",
    "\n",
    "leaf_ids = np.vstack(pcv.outputs.observations['segment_path_length']['label'])\n",
    "\n",
    "segment_path_length = np.vstack(pcv.outputs.observations['segment_path_length']['value'])\n",
    "\n",
    "segment_eu_length = np.vstack(pcv.outputs.observations['segment_eu_length']['value'])\n",
    "\n",
    "seg_angles = np.vstack(pcv.outputs.observations['segment_angle']['value'])\n",
    "\n",
    "segment_insertion_angle = np.vstack(pcv.outputs.observations['segment_insertion_angle']['value'])\n",
    "\n",
    "data_table = np.hstack((leaf_ids, segment_path_length, segment_eu_length, seg_angles, segment_insertion_angle))\n"
   ]
  },
  {
   "cell_type": "code",
   "execution_count": null,
   "metadata": {},
   "outputs": [],
   "source": [
    "# Print data out to a text file that can be imported into Excel \n",
    "\n",
    "np.savetxt(\"leaf_phenotype_data.txt\", data_table, delimiter=',', fmt='%10.5f',\n",
    "          header='leaf_id, path_length, eu_length, angle, insertion_angle')\n",
    "\n",
    "# To see the text file saved out, click 'File' tab in top left corner, click 'Open'\n",
    "\n",
    "# Download this file to your computer by checking the box directly to the \n",
    "# left of the file named \"leaf_phenotype_data.txt\" and then click \"Download\" \n",
    "# in the top left corner. \n",
    "\n"
   ]
  }
 ],
 "metadata": {
  "kernelspec": {
   "display_name": "Python 2",
   "language": "python",
   "name": "python2"
  },
  "language_info": {
   "codemirror_mode": {
    "name": "ipython",
    "version": 2
   },
   "file_extension": ".py",
   "mimetype": "text/x-python",
   "name": "python",
   "nbconvert_exporter": "python",
   "pygments_lexer": "ipython2",
   "version": "2.7.6"
  }
 },
 "nbformat": 4,
 "nbformat_minor": 0
}
