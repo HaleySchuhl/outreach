{
 "cells": [
  {
   "cell_type": "markdown",
   "metadata": {
    "collapsed": true
   },
   "source": [
    "# Welcome to the PlantCV Outreach Interactive Activities\n",
    "\n",
    "The [PlantCV project](http://plantcv.danforthcenter.org/) is an open-source imaging processing package for plant phenotyping. The Jupyter notebooks contained here are the interactive version of some of the [PlantCV documentation](http://plantcv.readthedocs.io/en/latest/). The Jupyter notebooks can be used directly in an executable environment provided by [Binder](https://mybinder.org/), or they can be cloned and run locally.\n",
    "\n",
    "These tutorials are designed to be tools for [education and outreach](https://www.danforthcenter.org/education-outreach) programs provided by the Donald Danforth Plant Science Center. \n",
    "\n",
    "Also, feel free to upload your own images and adjust parameters and workflows to fit them. Any images/Jupyter notebooks/data can be downloaded. \n",
    "\n",
    "\n",
    "### Tutorials\n",
    "\n",
    "- [Eveland Lab July 2019](notebooks/Eveland_July_2019.ipynb)"
   ]
  },
  {
   "cell_type": "code",
   "execution_count": null,
   "metadata": {},
   "outputs": [],
   "source": []
  }
 ],
 "metadata": {
  "kernelspec": {
   "display_name": "Python 2",
   "language": "python",
   "name": "python2"
  },
  "language_info": {
   "codemirror_mode": {
    "name": "ipython",
    "version": 2
   },
   "file_extension": ".py",
   "mimetype": "text/x-python",
   "name": "python",
   "nbconvert_exporter": "python",
   "pygments_lexer": "ipython2",
   "version": "2.7.6"
  }
 },
 "nbformat": 4,
 "nbformat_minor": 0
}
